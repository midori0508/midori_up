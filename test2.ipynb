{
 "cells": [
  {
   "cell_type": "code",
   "execution_count": 1,
   "metadata": {},
   "outputs": [],
   "source": [
    "import os\n",
    "import csv"
   ]
  },
  {
   "cell_type": "code",
   "execution_count": 6,
   "metadata": {},
   "outputs": [
    {
     "ename": "FileNotFoundError",
     "evalue": "[WinError 3] 指定されたパスが見つかりません。: '/data./test'",
     "output_type": "error",
     "traceback": [
      "\u001b[1;31m---------------------------------------------------------------------------\u001b[0m",
      "\u001b[1;31mFileNotFoundError\u001b[0m                         Traceback (most recent call last)",
      "Cell \u001b[1;32mIn[6], line 11\u001b[0m\n\u001b[0;32m      8\u001b[0m     os\u001b[38;5;241m.\u001b[39mmakedirs(output_folder)\n\u001b[0;32m     10\u001b[0m \u001b[38;5;66;03m# input_folder 内のすべてのファイルを取得\u001b[39;00m\n\u001b[1;32m---> 11\u001b[0m \u001b[38;5;28;01mfor\u001b[39;00m filename \u001b[38;5;129;01min\u001b[39;00m \u001b[43mos\u001b[49m\u001b[38;5;241;43m.\u001b[39;49m\u001b[43mlistdir\u001b[49m\u001b[43m(\u001b[49m\u001b[43minput_folder\u001b[49m\u001b[43m)\u001b[49m:\n\u001b[0;32m     12\u001b[0m     \u001b[38;5;28;01mif\u001b[39;00m filename\u001b[38;5;241m.\u001b[39mendswith(\u001b[38;5;124m'\u001b[39m\u001b[38;5;124m.txt\u001b[39m\u001b[38;5;124m'\u001b[39m):\n\u001b[0;32m     13\u001b[0m         \u001b[38;5;66;03m# テキストファイルのフルパスを取得\u001b[39;00m\n\u001b[0;32m     14\u001b[0m         input_file_path \u001b[38;5;241m=\u001b[39m os\u001b[38;5;241m.\u001b[39mpath\u001b[38;5;241m.\u001b[39mjoin(input_folder, filename)\n",
      "\u001b[1;31mFileNotFoundError\u001b[0m: [WinError 3] 指定されたパスが見つかりません。: '/data./test'"
     ]
    }
   ],
   "source": [
    "# サンプルファイルをcsvに変換\n",
    "# フォルダパスの設定\n",
    "input_folder = './data./test'\n",
    "output_folder = './data./test_tocsv'\n",
    "\n",
    "# 出力フォルダが存在しない場合は作成\n",
    "if not os.path.exists(output_folder):\n",
    "    os.makedirs(output_folder)\n",
    "\n",
    "# input_folder 内のすべてのファイルを取得\n",
    "for filename in os.listdir(input_folder):\n",
    "    if filename.endswith('.txt'):\n",
    "        # テキストファイルのフルパスを取得\n",
    "        input_file_path = os.path.join(input_folder, filename)\n",
    "        \n",
    "        # 対応するCSVファイルのパスを設定\n",
    "        output_file_path = os.path.join(output_folder, filename.replace('.txt', '.csv'))\n",
    "        \n",
    "        # テキストファイルを読み込み\n",
    "        with open(input_file_path, 'r', encoding='utf-8') as txt_file:\n",
    "            lines = txt_file.readlines()\n",
    "        \n",
    "        # CSVファイルに書き込み\n",
    "        with open(output_file_path, 'w', newline='', encoding='utf-8') as csv_file:\n",
    "            writer = csv.writer(csv_file)\n",
    "            for line in lines:\n",
    "                writer.writerow([line.strip()])  # 行をCSVの一行として書き込む\n",
    "\n",
    "print('テキストファイルをCSVファイルに変換しました。')"
   ]
  }
 ],
 "metadata": {
  "kernelspec": {
   "display_name": "Python 3",
   "language": "python",
   "name": "python3"
  },
  "language_info": {
   "codemirror_mode": {
    "name": "ipython",
    "version": 3
   },
   "file_extension": ".py",
   "mimetype": "text/x-python",
   "name": "python",
   "nbconvert_exporter": "python",
   "pygments_lexer": "ipython3",
   "version": "3.8.8"
  }
 },
 "nbformat": 4,
 "nbformat_minor": 2
}
